{
 "cells": [
  {
   "metadata": {
    "ExecuteTime": {
     "end_time": "2025-03-14T12:46:18.817696Z",
     "start_time": "2025-03-14T12:46:18.814039Z"
    }
   },
   "cell_type": "code",
   "source": [
    "# Import necessary libraries\n",
    "import os\n",
    "import yaml\n",
    "import cv2\n",
    "import numpy as np\n",
    "\n",
    "from src import data_preprocessing as dp"
   ],
   "id": "bc6c5e0b999c1c05",
   "outputs": [],
   "execution_count": 10
  },
  {
   "metadata": {
    "ExecuteTime": {
     "end_time": "2025-03-14T12:46:25.092144Z",
     "start_time": "2025-03-14T12:46:18.860959Z"
    }
   },
   "cell_type": "code",
   "source": [
    "# Load configuration\n",
    "with open(\"config/config.yaml\", 'r') as ymlfile:\n",
    "    cfg = yaml.safe_load(ymlfile)\n",
    "\n",
    "raw_dirs = cfg[\"data\"][\"raw\"]\n",
    "processed_dirs = cfg[\"data\"][\"processed\"]\n",
    "resize_size = tuple(cfg[\"preprocessing\"][\"resize_size\"])\n",
    "threshold = cfg[\"preprocessing\"][\"threshold\"]\n",
    "classes = cfg[\"classes\"]"
   ],
   "id": "a1191c057dd8b5c4",
   "outputs": [],
   "execution_count": 11
  },
  {
   "metadata": {},
   "cell_type": "code",
   "outputs": [],
   "execution_count": null,
   "source": [
    "# Process the images\n",
    "for raw_dir, processed_dir in zip(raw_dirs, processed_dirs):\n",
    "    for class_name in classes:\n",
    "        in_class_dir = os.path.join(raw_dir, class_name)\n",
    "        out_class_dir = os.path.join(processed_dir, class_name)\n",
    "\n",
    "        for file in os.listdir(in_class_dir):\n",
    "            in_file_path = os.path.join(in_class_dir, file)\n",
    "            processed_image = dp.preprocess_image(\n",
    "                in_file_path,\n",
    "                resize_size,\n",
    "                threshold\n",
    "            )\n",
    "            output_image = (processed_image * 255).astype(np.uint8)\n",
    "            out_file_path = os.path.join(out_class_dir, file)\n",
    "            cv2.imwrite(out_file_path, output_image)"
   ],
   "id": "e1284f7cea45dce5"
  }
 ],
 "metadata": {
  "kernelspec": {
   "display_name": "Python 3",
   "language": "python",
   "name": "python3"
  },
  "language_info": {
   "codemirror_mode": {
    "name": "ipython",
    "version": 2
   },
   "file_extension": ".py",
   "mimetype": "text/x-python",
   "name": "python",
   "nbconvert_exporter": "python",
   "pygments_lexer": "ipython2",
   "version": "2.7.6"
  }
 },
 "nbformat": 4,
 "nbformat_minor": 5
}
